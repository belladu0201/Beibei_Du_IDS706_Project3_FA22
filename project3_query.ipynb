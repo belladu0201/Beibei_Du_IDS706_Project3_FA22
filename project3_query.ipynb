{
 "cells": [
  {
   "cell_type": "code",
   "execution_count": 1,
   "metadata": {},
   "outputs": [],
   "source": [
    "import sqlite3\n",
    "import pandas as pd"
   ]
  },
  {
   "cell_type": "code",
   "execution_count": 2,
   "metadata": {},
   "outputs": [],
   "source": [
    "# create a connection to a database\n",
    "db = sqlite3.connect('vegetables.db')"
   ]
  },
  {
   "cell_type": "code",
   "execution_count": 3,
   "metadata": {},
   "outputs": [],
   "source": [
    "# create a cursor\n",
    "cur = db.cursor()"
   ]
  },
  {
   "cell_type": "code",
   "execution_count": 4,
   "metadata": {},
   "outputs": [
    {
     "data": {
      "text/plain": [
       "[]"
      ]
     },
     "execution_count": 4,
     "metadata": {},
     "output_type": "execute_result"
    }
   ],
   "source": [
    "step1 = cur.execute('CREATE TABLE IF NOT EXISTS vegetables (name TEXT, color TEXT, count INTEGER)')\n",
    "step1.fetchall()"
   ]
  },
  {
   "cell_type": "code",
   "execution_count": 5,
   "metadata": {},
   "outputs": [
    {
     "data": {
      "text/plain": [
       "<sqlite3.Cursor at 0x115ba37a0>"
      ]
     },
     "execution_count": 5,
     "metadata": {},
     "output_type": "execute_result"
    }
   ],
   "source": [
    "cur.execute('INSERT INTO vegetables VALUES (\"carrot\", \"orange\", 10)')"
   ]
  },
  {
   "cell_type": "code",
   "execution_count": 6,
   "metadata": {},
   "outputs": [
    {
     "data": {
      "text/plain": [
       "[('carrot', 'orange', 10)]"
      ]
     },
     "execution_count": 6,
     "metadata": {},
     "output_type": "execute_result"
    }
   ],
   "source": [
    "step3 = cur.execute('SELECT * FROM vegetables')\n",
    "step3.fetchall()"
   ]
  },
  {
   "cell_type": "code",
   "execution_count": 7,
   "metadata": {},
   "outputs": [
    {
     "data": {
      "text/plain": [
       "<sqlite3.Cursor at 0x115ba37a0>"
      ]
     },
     "execution_count": 7,
     "metadata": {},
     "output_type": "execute_result"
    }
   ],
   "source": [
    "cur.execute('UPDATE vegetables SET count = 20 WHERE name = \"carrot\"')"
   ]
  },
  {
   "cell_type": "code",
   "execution_count": 8,
   "metadata": {},
   "outputs": [
    {
     "data": {
      "text/plain": [
       "<sqlite3.Cursor at 0x115ba37a0>"
      ]
     },
     "execution_count": 8,
     "metadata": {},
     "output_type": "execute_result"
    }
   ],
   "source": [
    "cur.execute('INSERT INTO vegetables VALUES (\"broccoli\", \"green\", 15)')\n",
    "cur.execute('INSERT INTO vegetables VALUES (\"cauliflower\", \"white\", 31)')\n",
    "cur.execute('INSERT INTO vegetables VALUES (\"zucchini\", \"green\", 27)')\n",
    "cur.execute('INSERT INTO vegetables VALUES (\"spinach\", \"green\", 4)')\n",
    "cur.execute('INSERT INTO vegetables VALUES (\"squash\", \"yellow\", 4)')\n",
    "cur.execute('INSERT INTO vegetables VALUES (\"peas\", \"green\", 3)')\n",
    "cur.execute('INSERT INTO vegetables VALUES (\"potato\", \"brown\", 8)')\n",
    "cur.execute('INSERT INTO vegetables VALUES (\"tomato\", \"red\", 9)')\n",
    "cur.execute('INSERT INTO vegetables VALUES (\"eggplant\", \"purple\", 6)')\n",
    "cur.execute('INSERT INTO vegetables VALUES (\"cucumber\", \"green\", 11)')\n",
    "cur.execute('INSERT INTO vegetables VALUES (\"celery\", \"green\", 12)')\n",
    "cur.execute('INSERT INTO vegetables VALUES (\"asparagus\", \"green\", 13)')\n",
    "cur.execute('INSERT INTO vegetables VALUES (\"garlic\", \"white\", 14)')"
   ]
  },
  {
   "cell_type": "code",
   "execution_count": 9,
   "metadata": {},
   "outputs": [
    {
     "data": {
      "text/plain": [
       "[('carrot', 'orange', 20),\n",
       " ('broccoli', 'green', 15),\n",
       " ('cauliflower', 'white', 31),\n",
       " ('zucchini', 'green', 27),\n",
       " ('spinach', 'green', 4),\n",
       " ('squash', 'yellow', 4),\n",
       " ('peas', 'green', 3),\n",
       " ('potato', 'brown', 8),\n",
       " ('tomato', 'red', 9),\n",
       " ('eggplant', 'purple', 6),\n",
       " ('cucumber', 'green', 11),\n",
       " ('celery', 'green', 12),\n",
       " ('asparagus', 'green', 13),\n",
       " ('garlic', 'white', 14)]"
      ]
     },
     "execution_count": 9,
     "metadata": {},
     "output_type": "execute_result"
    }
   ],
   "source": [
    "step5 = cur.execute('SELECT * FROM vegetables')\n",
    "step5.fetchall()"
   ]
  },
  {
   "cell_type": "code",
   "execution_count": 10,
   "metadata": {},
   "outputs": [],
   "source": [
    "db.commit()"
   ]
  },
  {
   "cell_type": "code",
   "execution_count": 11,
   "metadata": {},
   "outputs": [],
   "source": [
    "db.close()"
   ]
  },
  {
   "cell_type": "markdown",
   "metadata": {},
   "source": [
    "## Section 2 Week 9\n",
    "### I have selected a dataset from Kaggle: https://www.kaggle.com/datasets/shariful07/nice-work-thanks-for-share"
   ]
  },
  {
   "cell_type": "code",
   "execution_count": 11,
   "metadata": {},
   "outputs": [],
   "source": [
    "# Connect to DB and create a cursor\n",
    "sqliteConnection = sqlite3.connect(\"student.db\")\n",
    "cursor = sqliteConnection.cursor()"
   ]
  },
  {
   "cell_type": "code",
   "execution_count": 12,
   "metadata": {},
   "outputs": [
    {
     "data": {
      "text/plain": [
       "105"
      ]
     },
     "execution_count": 12,
     "metadata": {},
     "output_type": "execute_result"
    }
   ],
   "source": [
    "# create database/table\n",
    "\n",
    "db = pd.read_csv('University Students Monthly Expenses.csv')\n",
    "db.to_sql('student', sqliteConnection, if_exists='append', index=False) "
   ]
  },
  {
   "cell_type": "code",
   "execution_count": 13,
   "metadata": {},
   "outputs": [
    {
     "data": {
      "text/html": [
       "<div>\n",
       "<style scoped>\n",
       "    .dataframe tbody tr th:only-of-type {\n",
       "        vertical-align: middle;\n",
       "    }\n",
       "\n",
       "    .dataframe tbody tr th {\n",
       "        vertical-align: top;\n",
       "    }\n",
       "\n",
       "    .dataframe thead th {\n",
       "        text-align: right;\n",
       "    }\n",
       "</style>\n",
       "<table border=\"1\" class=\"dataframe\">\n",
       "  <thead>\n",
       "    <tr style=\"text-align: right;\">\n",
       "      <th></th>\n",
       "      <th>Gender</th>\n",
       "      <th>Age</th>\n",
       "      <th>Study_year</th>\n",
       "      <th>Living</th>\n",
       "      <th>Scholarship</th>\n",
       "      <th>Part_time_job</th>\n",
       "      <th>Transporting</th>\n",
       "      <th>Smoking</th>\n",
       "      <th>Drinks</th>\n",
       "      <th>Games_&amp;_Hobbies</th>\n",
       "      <th>Cosmetics_&amp;_Self-care</th>\n",
       "      <th>Monthly_Subscription</th>\n",
       "      <th>Monthly_expenses_$</th>\n",
       "    </tr>\n",
       "  </thead>\n",
       "  <tbody>\n",
       "    <tr>\n",
       "      <th>0</th>\n",
       "      <td>Female</td>\n",
       "      <td>21</td>\n",
       "      <td>2.0</td>\n",
       "      <td>Home</td>\n",
       "      <td>No</td>\n",
       "      <td>No</td>\n",
       "      <td>No</td>\n",
       "      <td>No</td>\n",
       "      <td>No</td>\n",
       "      <td>No</td>\n",
       "      <td>Yes</td>\n",
       "      <td>No</td>\n",
       "      <td>150.0</td>\n",
       "    </tr>\n",
       "    <tr>\n",
       "      <th>1</th>\n",
       "      <td>Male</td>\n",
       "      <td>25</td>\n",
       "      <td>3.0</td>\n",
       "      <td>Hostel</td>\n",
       "      <td>No</td>\n",
       "      <td>Yes</td>\n",
       "      <td>Motorcycle</td>\n",
       "      <td>No</td>\n",
       "      <td>No</td>\n",
       "      <td>Yes</td>\n",
       "      <td>Yes</td>\n",
       "      <td>Yes</td>\n",
       "      <td>220.0</td>\n",
       "    </tr>\n",
       "    <tr>\n",
       "      <th>2</th>\n",
       "      <td>Male</td>\n",
       "      <td>23</td>\n",
       "      <td>2.0</td>\n",
       "      <td>Home</td>\n",
       "      <td>Yes</td>\n",
       "      <td>No</td>\n",
       "      <td>No</td>\n",
       "      <td>No</td>\n",
       "      <td>No</td>\n",
       "      <td>No</td>\n",
       "      <td>No</td>\n",
       "      <td>NaN</td>\n",
       "      <td>180.0</td>\n",
       "    </tr>\n",
       "    <tr>\n",
       "      <th>3</th>\n",
       "      <td>Male</td>\n",
       "      <td>19</td>\n",
       "      <td>3.0</td>\n",
       "      <td>Hostel</td>\n",
       "      <td>No</td>\n",
       "      <td>No</td>\n",
       "      <td>Motorcycle</td>\n",
       "      <td>No</td>\n",
       "      <td>No</td>\n",
       "      <td>Yes</td>\n",
       "      <td>Yes</td>\n",
       "      <td>Yes</td>\n",
       "      <td>200.0</td>\n",
       "    </tr>\n",
       "    <tr>\n",
       "      <th>4</th>\n",
       "      <td>Female</td>\n",
       "      <td>19</td>\n",
       "      <td>2.0</td>\n",
       "      <td>Home</td>\n",
       "      <td>No</td>\n",
       "      <td>No</td>\n",
       "      <td>Motorcycle</td>\n",
       "      <td>No</td>\n",
       "      <td>No</td>\n",
       "      <td>No</td>\n",
       "      <td>Yes</td>\n",
       "      <td>No</td>\n",
       "      <td>300.0</td>\n",
       "    </tr>\n",
       "  </tbody>\n",
       "</table>\n",
       "</div>"
      ],
      "text/plain": [
       "    Gender  Age  Study_year  Living Scholarship Part_time_job Transporting  \\\n",
       "0  Female    21         2.0    Home          No            No           No   \n",
       "1    Male    25         3.0  Hostel          No           Yes   Motorcycle   \n",
       "2    Male    23         2.0    Home         Yes            No           No   \n",
       "3    Male    19         3.0  Hostel          No            No   Motorcycle   \n",
       "4  Female    19         2.0    Home          No            No   Motorcycle   \n",
       "\n",
       "  Smoking Drinks Games_&_Hobbies Cosmetics_&_Self-care Monthly_Subscription  \\\n",
       "0      No     No              No                   Yes                   No   \n",
       "1      No     No             Yes                   Yes                  Yes   \n",
       "2      No     No              No                    No                  NaN   \n",
       "3      No     No             Yes                   Yes                  Yes   \n",
       "4      No     No              No                   Yes                   No   \n",
       "\n",
       "   Monthly_expenses_$  \n",
       "0               150.0  \n",
       "1               220.0  \n",
       "2               180.0  \n",
       "3               200.0  \n",
       "4               300.0  "
      ]
     },
     "execution_count": 13,
     "metadata": {},
     "output_type": "execute_result"
    }
   ],
   "source": [
    "db.head()"
   ]
  },
  {
   "cell_type": "code",
   "execution_count": 24,
   "metadata": {},
   "outputs": [
    {
     "name": "stdout",
     "output_type": "stream",
     "text": [
      "The maximum monthly spend is $350.0.\n"
     ]
    }
   ],
   "source": [
    "max_spend = db.sort_values(by=\"Monthly_expenses_$\", ascending=False)['Monthly_expenses_$'].iloc[0]\n",
    "print(f\"The maximum monthly spend is ${max_spend}.\")"
   ]
  },
  {
   "cell_type": "code",
   "execution_count": 14,
   "metadata": {},
   "outputs": [
    {
     "data": {
      "text/plain": [
       "<sqlite3.Cursor at 0x18535bec0>"
      ]
     },
     "execution_count": 14,
     "metadata": {},
     "output_type": "execute_result"
    }
   ],
   "source": [
    "cursor.execute(\"select * from student\")"
   ]
  },
  {
   "cell_type": "code",
   "execution_count": 15,
   "metadata": {},
   "outputs": [
    {
     "data": {
      "text/plain": [
       "('Female ',\n",
       " 21,\n",
       " 2.0,\n",
       " 'Home',\n",
       " 'No',\n",
       " 'No',\n",
       " 'No',\n",
       " 'No',\n",
       " 'No',\n",
       " 'No',\n",
       " 'Yes',\n",
       " 'No',\n",
       " 150.0)"
      ]
     },
     "execution_count": 15,
     "metadata": {},
     "output_type": "execute_result"
    }
   ],
   "source": [
    "# this will show the first row in the data\n",
    "cursor.fetchone()"
   ]
  },
  {
   "cell_type": "code",
   "execution_count": 16,
   "metadata": {},
   "outputs": [
    {
     "name": "stdout",
     "output_type": "stream",
     "text": [
      "Index(['Gender', 'Age', 'Study_year', 'Living', 'Scholarship', 'Part_time_job',\n",
      "       'Transporting', 'Smoking', 'Drinks', 'Games_&_Hobbies',\n",
      "       'Cosmetics_&_Self-care', 'Monthly_Subscription', 'Monthly_expenses_$'],\n",
      "      dtype='object')\n"
     ]
    }
   ],
   "source": [
    "# show the columns in the database\n",
    "print(db.columns)"
   ]
  },
  {
   "cell_type": "code",
   "execution_count": 27,
   "metadata": {},
   "outputs": [
    {
     "name": "stdout",
     "output_type": "stream",
     "text": [
      "There are 38 students with monthly expenses greater than $200.\n"
     ]
    }
   ],
   "source": [
    "# select the student with monthly expenses greater than 200\n",
    "cursor.execute(\"select * from student where Monthly_expenses_$ > 200\")\n",
    "rich = cursor.fetchall()\n",
    "[i for i in rich][0]\n",
    "print(f\"There are {len(rich)} students with monthly expenses greater than $200.\")"
   ]
  },
  {
   "cell_type": "code",
   "execution_count": 30,
   "metadata": {},
   "outputs": [
    {
     "name": "stdout",
     "output_type": "stream",
     "text": [
      "There are 5 students with monthly expenses less than $150.\n"
     ]
    }
   ],
   "source": [
    "# select the student with monthly expenses less than 100\n",
    "cursor.execute(\"select Scholarship,Part_time_job from student where Monthly_expenses_$ < 150\")\n",
    "spd_less = cursor.fetchall()\n",
    "[i for i in spd_less][0]\n",
    "print(f\"There are {len(spd_less)} students with monthly expenses less than $150.\")"
   ]
  },
  {
   "cell_type": "code",
   "execution_count": 31,
   "metadata": {},
   "outputs": [
    {
     "name": "stdout",
     "output_type": "stream",
     "text": [
      "[('No', 'No'), ('No', 'No'), ('No', 'No'), ('No', 'No'), ('No', 'No')]\n"
     ]
    }
   ],
   "source": [
    "print(spd_less)"
   ]
  }
 ],
 "metadata": {
  "kernelspec": {
   "display_name": "Python 3.10.6 ('base')",
   "language": "python",
   "name": "python3"
  },
  "language_info": {
   "codemirror_mode": {
    "name": "ipython",
    "version": 3
   },
   "file_extension": ".py",
   "mimetype": "text/x-python",
   "name": "python",
   "nbconvert_exporter": "python",
   "pygments_lexer": "ipython3",
   "version": "3.10.6"
  },
  "orig_nbformat": 4,
  "vscode": {
   "interpreter": {
    "hash": "3d597f4c481aa0f25dceb95d2a0067e73c0966dcbd003d741d821a7208527ecf"
   }
  }
 },
 "nbformat": 4,
 "nbformat_minor": 2
}
