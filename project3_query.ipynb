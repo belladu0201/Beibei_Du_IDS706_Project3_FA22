{
 "cells": [
  {
   "cell_type": "code",
   "execution_count": 1,
   "metadata": {},
   "outputs": [],
   "source": [
    "import sqlite3"
   ]
  },
  {
   "cell_type": "code",
   "execution_count": 2,
   "metadata": {},
   "outputs": [],
   "source": [
    "# create a connection to a database\n",
    "db = sqlite3.connect('vegetables.db')"
   ]
  },
  {
   "cell_type": "code",
   "execution_count": 3,
   "metadata": {},
   "outputs": [],
   "source": [
    "# create a cursor\n",
    "cur = db.cursor()"
   ]
  },
  {
   "cell_type": "code",
   "execution_count": 4,
   "metadata": {},
   "outputs": [
    {
     "data": {
      "text/plain": [
       "[]"
      ]
     },
     "execution_count": 4,
     "metadata": {},
     "output_type": "execute_result"
    }
   ],
   "source": [
    "step1 = cur.execute('CREATE TABLE IF NOT EXISTS vegetables (name TEXT, color TEXT, count INTEGER)')\n",
    "step1.fetchall()"
   ]
  },
  {
   "cell_type": "code",
   "execution_count": 5,
   "metadata": {},
   "outputs": [
    {
     "data": {
      "text/plain": [
       "<sqlite3.Cursor at 0x115ba37a0>"
      ]
     },
     "execution_count": 5,
     "metadata": {},
     "output_type": "execute_result"
    }
   ],
   "source": [
    "cur.execute('INSERT INTO vegetables VALUES (\"carrot\", \"orange\", 10)')"
   ]
  },
  {
   "cell_type": "code",
   "execution_count": 6,
   "metadata": {},
   "outputs": [
    {
     "data": {
      "text/plain": [
       "[('carrot', 'orange', 10)]"
      ]
     },
     "execution_count": 6,
     "metadata": {},
     "output_type": "execute_result"
    }
   ],
   "source": [
    "step3 = cur.execute('SELECT * FROM vegetables')\n",
    "step3.fetchall()"
   ]
  },
  {
   "cell_type": "code",
   "execution_count": 7,
   "metadata": {},
   "outputs": [
    {
     "data": {
      "text/plain": [
       "<sqlite3.Cursor at 0x115ba37a0>"
      ]
     },
     "execution_count": 7,
     "metadata": {},
     "output_type": "execute_result"
    }
   ],
   "source": [
    "cur.execute('UPDATE vegetables SET count = 20 WHERE name = \"carrot\"')"
   ]
  },
  {
   "cell_type": "code",
   "execution_count": 8,
   "metadata": {},
   "outputs": [
    {
     "data": {
      "text/plain": [
       "<sqlite3.Cursor at 0x115ba37a0>"
      ]
     },
     "execution_count": 8,
     "metadata": {},
     "output_type": "execute_result"
    }
   ],
   "source": [
    "cur.execute('INSERT INTO vegetables VALUES (\"broccoli\", \"green\", 15)')\n",
    "cur.execute('INSERT INTO vegetables VALUES (\"cauliflower\", \"white\", 31)')\n",
    "cur.execute('INSERT INTO vegetables VALUES (\"zucchini\", \"green\", 27)')\n",
    "cur.execute('INSERT INTO vegetables VALUES (\"spinach\", \"green\", 4)')\n",
    "cur.execute('INSERT INTO vegetables VALUES (\"squash\", \"yellow\", 4)')\n",
    "cur.execute('INSERT INTO vegetables VALUES (\"peas\", \"green\", 3)')\n",
    "cur.execute('INSERT INTO vegetables VALUES (\"potato\", \"brown\", 8)')\n",
    "cur.execute('INSERT INTO vegetables VALUES (\"tomato\", \"red\", 9)')\n",
    "cur.execute('INSERT INTO vegetables VALUES (\"eggplant\", \"purple\", 6)')\n",
    "cur.execute('INSERT INTO vegetables VALUES (\"cucumber\", \"green\", 11)')\n",
    "cur.execute('INSERT INTO vegetables VALUES (\"celery\", \"green\", 12)')\n",
    "cur.execute('INSERT INTO vegetables VALUES (\"asparagus\", \"green\", 13)')\n",
    "cur.execute('INSERT INTO vegetables VALUES (\"garlic\", \"white\", 14)')"
   ]
  },
  {
   "cell_type": "code",
   "execution_count": 9,
   "metadata": {},
   "outputs": [
    {
     "data": {
      "text/plain": [
       "[('carrot', 'orange', 20),\n",
       " ('broccoli', 'green', 15),\n",
       " ('cauliflower', 'white', 31),\n",
       " ('zucchini', 'green', 27),\n",
       " ('spinach', 'green', 4),\n",
       " ('squash', 'yellow', 4),\n",
       " ('peas', 'green', 3),\n",
       " ('potato', 'brown', 8),\n",
       " ('tomato', 'red', 9),\n",
       " ('eggplant', 'purple', 6),\n",
       " ('cucumber', 'green', 11),\n",
       " ('celery', 'green', 12),\n",
       " ('asparagus', 'green', 13),\n",
       " ('garlic', 'white', 14)]"
      ]
     },
     "execution_count": 9,
     "metadata": {},
     "output_type": "execute_result"
    }
   ],
   "source": [
    "step5 = cur.execute('SELECT * FROM vegetables')\n",
    "step5.fetchall()"
   ]
  },
  {
   "cell_type": "code",
   "execution_count": 10,
   "metadata": {},
   "outputs": [],
   "source": [
    "db.commit()"
   ]
  },
  {
   "cell_type": "code",
   "execution_count": 11,
   "metadata": {},
   "outputs": [],
   "source": [
    "db.close()"
   ]
  },
  {
   "cell_type": "code",
   "execution_count": null,
   "metadata": {},
   "outputs": [],
   "source": []
  }
 ],
 "metadata": {
  "kernelspec": {
   "display_name": "Python 3.8.9 64-bit",
   "language": "python",
   "name": "python3"
  },
  "language_info": {
   "codemirror_mode": {
    "name": "ipython",
    "version": 3
   },
   "file_extension": ".py",
   "mimetype": "text/x-python",
   "name": "python",
   "nbconvert_exporter": "python",
   "pygments_lexer": "ipython3",
   "version": "3.8.9"
  },
  "orig_nbformat": 4,
  "vscode": {
   "interpreter": {
    "hash": "31f2aee4e71d21fbe5cf8b01ff0e069b9275f58929596ceb00d14d90e3e16cd6"
   }
  }
 },
 "nbformat": 4,
 "nbformat_minor": 2
}
